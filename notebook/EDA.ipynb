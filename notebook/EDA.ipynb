{
 "cells": [
  {
   "cell_type": "markdown",
   "metadata": {},
   "source": [
    "### Problem Statement\n",
    "\n",
    "The Audubon Society Field Guide to North American Mushrooms contains descriptions\n",
    "of hypothetical samples corresponding to 23 species of gilled mushrooms in the\n",
    "Agaricus and Lepiota Family Mushroom (1981). Each species is labelled as either\n",
    "definitely edible, definitely poisonous, or maybe edible but not recommended. This last\n",
    "category was merged with the toxic category. The Guide asserts unequivocally that\n",
    "there is no simple rule for judging a mushroom's edibility, such as \"leaflets three, leave it\n",
    "be\" for Poisonous Oak and Ivy."
   ]
  },
  {
   "cell_type": "markdown",
   "metadata": {},
   "source": [
    "### Objective\n",
    "The main goal is to predict which mushroom is poisonous & which is edible."
   ]
  },
  {
   "cell_type": "markdown",
   "metadata": {},
   "source": [
    "### Dataset Link:\n",
    "https://www.kaggle.com/datasets/uciml/mushroom-classification"
   ]
  },
  {
   "cell_type": "markdown",
   "metadata": {},
   "source": [
    "### Attribute Information: \n",
    "\n",
    "- **`classes:`** edible = e, poisonous = p\n",
    "\n",
    "- **`cap-shape:`** bell = b, conical = c, convex = x, flat = f, knobbed = k, sunken = s\n",
    "\n",
    "- **`cap-surface:`** fibrous = f, grooves = g, scaly = y, smooth = s\n",
    " \n",
    "- **`cap-color:`** brown = n, buff = b, cinnamon = c, gray = g, green = r, pink = p,purple = u, red = e, white = w, yellow = y\n",
    " \n",
    "- **`bruises:`** bruises = t, no = f\n",
    " \n",
    "- **`odor:`** almond = a, anise = l, creosote = c, fishy = y, foul = f, musty = m,none = n, pungent = p, spicy = s\n",
    " \n",
    "- **`gill-attachment:`** attached = a, descending = d, free = f, notched = n\n",
    " \n",
    "- **`gill-spacing:`** close = c, crowded = w, distant = d\n",
    " \n",
    "- **`gill-size:`** broad = b, narrow = n\n",
    " \n",
    "- **`gill-color:`** black = k, brown = n, buff = b, chocolate = h, gray = g, green = r, orange = o, pink = p, purple = u, red = e, white = w, yellow = y\n",
    " \n",
    "- **`stalk-shape:`** enlarging = e, tapering = t\n",
    " \n",
    "- **`stalk-root:`** bulbous = b, club = c, cup = u, equal = e, rhizomorphs = z, rooted = r, missing = ?\n",
    " \n",
    "- **`stalk-surface-above-ring:`** fibrous = f, scaly = y, silky = k, smooth = s\n",
    " \n",
    "- **`stalk-surface-below-ring:`** fibrous = f, scaly = y, silky = k, smooth = s\n",
    " \n",
    "- **`stalk-color-above-ring:`** brown = n, buff = b, cinnamon = c, gray = g, orange = o, pink = p, red = e, white = w, yellow = y\n",
    " \n",
    "- **`stalk-color-below-ring:`** brown = n, buff = b, cinnamon = c, gray = g, orange = o, pink = p, red = e, white = w, yellow = y\n",
    " \n",
    "- **`veil-type:`** partial = p, universal = u\n",
    " \n",
    "- **`veil-color:`** brown = n, orange = o, white = w, yellow = y\n",
    " \n",
    "- **`ring-number:`** none = n,one = o, two = t\n",
    " \n",
    "- **`ring-type:`** cobwebby = c, evanescent = e, flaring = f , large = l, none = n, pendant = p, sheathing = s, zone = z\n",
    " \n",
    "- **`spore-print-color:`** black = k, brown = n , buff = b, chocolate = h, green = r, orange = o, purple = u, white = w, yellow = y\n",
    " \n",
    "- **`population:`** abundant = a, clustered = c, numerous = n, scattered = s, several = v, solitary = y\n",
    " \n",
    "- **`habitat:`** grasses = g, leaves = l, meadows = m, paths = p, urban = u, waste = w, woods = d"
   ]
  },
  {
   "cell_type": "markdown",
   "metadata": {},
   "source": [
    "→ stalk-root feature contains missing values as (?)."
   ]
  },
  {
   "cell_type": "code",
   "execution_count": null,
   "metadata": {},
   "outputs": [],
   "source": [
    "# Importing required packages\n",
    "\n",
    "import pandas as pd\n",
    "import numpy as np\n",
    "import seaborn as sns\n",
    "import matplotlib.pyplot as plt"
   ]
  },
  {
   "cell_type": "code",
   "execution_count": null,
   "metadata": {},
   "outputs": [],
   "source": [
    "# Reading the data\n",
    "pd.read_csv('https://github.com/iamaakashpal/dataset/raw/main/mushroom_dataset.zip')"
   ]
  },
  {
   "cell_type": "code",
   "execution_count": null,
   "metadata": {},
   "outputs": [],
   "source": [
    "# Storing data into dataset variable\n",
    "dataset = pd.read_csv('https://github.com/iamaakashpal/dataset/raw/main/mushroom_dataset.zip')"
   ]
  },
  {
   "cell_type": "code",
   "execution_count": null,
   "metadata": {},
   "outputs": [],
   "source": [
    "# Checking size of the dataset\n",
    "dataset.shape"
   ]
  },
  {
   "cell_type": "code",
   "execution_count": null,
   "metadata": {},
   "outputs": [],
   "source": [
    "# Displaying random 5 values of the data.\n",
    "dataset.sample(5)"
   ]
  },
  {
   "cell_type": "code",
   "execution_count": null,
   "metadata": {},
   "outputs": [],
   "source": [
    "# Displaying Top 5 records of the dataset\n",
    "dataset.head()"
   ]
  },
  {
   "cell_type": "code",
   "execution_count": null,
   "metadata": {},
   "outputs": [],
   "source": [
    "# Displaying Last 5 records of the dataset\n",
    "dataset.tail()"
   ]
  },
  {
   "cell_type": "code",
   "execution_count": null,
   "metadata": {},
   "outputs": [],
   "source": [
    "# Checking the data type of each features\n",
    "dataset.info()"
   ]
  },
  {
   "cell_type": "markdown",
   "metadata": {},
   "source": [
    "- All the features in the dataset are **`categorial`** values."
   ]
  },
  {
   "cell_type": "code",
   "execution_count": null,
   "metadata": {},
   "outputs": [],
   "source": [
    "# Checking Missing Value\n",
    "dataset.isnull().sum()"
   ]
  },
  {
   "cell_type": "markdown",
   "metadata": {},
   "source": [
    "→ No missing value, but the stalk-root feature contains missing as a value as (?) we will investigate further."
   ]
  },
  {
   "cell_type": "code",
   "execution_count": null,
   "metadata": {},
   "outputs": [],
   "source": [
    "# Checking duplicate value\n",
    "dataset.duplicated().sum()"
   ]
  },
  {
   "cell_type": "markdown",
   "metadata": {},
   "source": [
    "→ There is no duplicate value in the dataset."
   ]
  }
 ],
 "metadata": {
  "kernelspec": {
   "display_name": "Python 3.8.0 (conda)",
   "language": "python",
   "name": "python3"
  },
  "language_info": {
   "codemirror_mode": {
    "name": "ipython",
    "version": 3
   },
   "file_extension": ".py",
   "mimetype": "text/x-python",
   "name": "python",
   "nbconvert_exporter": "python",
   "pygments_lexer": "ipython3",
   "version": "3.8.0"
  },
  "orig_nbformat": 4,
  "vscode": {
   "interpreter": {
    "hash": "2248c0e65526bd21e726449ec45cb5b5e20d6cb5be94e0b19ad06d90db710314"
   }
  }
 },
 "nbformat": 4,
 "nbformat_minor": 2
}
